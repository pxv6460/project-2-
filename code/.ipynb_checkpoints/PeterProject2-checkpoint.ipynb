{
 "cells": [
  {
   "cell_type": "code",
   "execution_count": 1,
   "id": "32f950af-5b74-4000-a2b9-9793dd0e0fbb",
   "metadata": {},
   "outputs": [],
   "source": [
    "import pipeline as p_util\n",
    "import pandas as pd"
   ]
  },
  {
   "cell_type": "code",
   "execution_count": 2,
   "id": "ed69b5c3-a011-4270-8219-897c2e1a1acd",
   "metadata": {},
   "outputs": [],
   "source": [
    "#open the compressed data\n",
    "#with gzip.open(\"../Res/athyg_v24.csv.gz\", 'rt') as reader_ath_hyg:\n",
    "#    ath_hyg=pd.read_csv(reader_ath_hyg, low_memory=False)\n",
    "#    \n",
    "#with gzip.open(\"../Res/hygdata_v37.csv.gz\", 'rt') as reader_hyg:\n",
    "#    hyg=pd.read_csv(reader_hyg, low_memory=False)\n"
   ]
  },
  {
   "cell_type": "code",
   "execution_count": 3,
   "id": "502d862a-dc01-45bd-8aa3-d78023b44d97",
   "metadata": {},
   "outputs": [],
   "source": [
    "df=pd.read_csv(\"../Res/preporcessed.csv\")"
   ]
  },
  {
   "cell_type": "code",
   "execution_count": 4,
   "id": "d2bba945-3580-4228-aee7-b3f37e84bdb9",
   "metadata": {},
   "outputs": [],
   "source": [
    "#ath_hyg"
   ]
  },
  {
   "cell_type": "code",
   "execution_count": 5,
   "id": "4d1f7a2f-52cb-4e32-89f0-31a7f7978b2b",
   "metadata": {
    "scrolled": true
   },
   "outputs": [
    {
     "data": {
      "text/plain": [
       "target\n",
       "0.0    22417\n",
       "1.0    18916\n",
       "Name: count, dtype: int64"
      ]
     },
     "execution_count": 5,
     "metadata": {},
     "output_type": "execute_result"
    }
   ],
   "source": [
    "df[\"target\"].value_counts()"
   ]
  },
  {
   "cell_type": "code",
   "execution_count": 6,
   "id": "24bc209a-dbf7-4fbc-a7e7-a32a2f14f158",
   "metadata": {},
   "outputs": [],
   "source": [
    "# ReportVisualizationPartTwo = sv.analyze(df)\n",
    "# ReportVisualizationPartTwo.show_notebook()"
   ]
  },
  {
   "cell_type": "code",
   "execution_count": 7,
   "id": "32efb2a1-169d-43fe-be74-340c54453ee1",
   "metadata": {},
   "outputs": [
    {
     "name": "stdout",
     "output_type": "stream",
     "text": [
      "<class 'pandas.core.frame.DataFrame'>\n",
      "RangeIndex: 41333 entries, 0 to 41332\n",
      "Data columns (total 12 columns):\n",
      " #   Column                  Non-Null Count  Dtype  \n",
      "---  ------                  --------------  -----  \n",
      " 0   Vmag                    41333 non-null  float64\n",
      " 1   Plx                     41333 non-null  float64\n",
      " 2   e_Plx                   41333 non-null  float64\n",
      " 3   B-V                     41333 non-null  float64\n",
      " 4   SpType                  41333 non-null  object \n",
      " 5   Distance (parsecs)      41333 non-null  float64\n",
      " 6   Distance (light years)  41333 non-null  float64\n",
      " 7   Amag                    41333 non-null  float64\n",
      " 8   Temperature (K)         41333 non-null  float64\n",
      " 9   Luminosity (Sun=1)      41333 non-null  float64\n",
      " 10  Radius (Sun=1)          41333 non-null  float64\n",
      " 11  target                  41333 non-null  float64\n",
      "dtypes: float64(11), object(1)\n",
      "memory usage: 3.8+ MB\n"
     ]
    }
   ],
   "source": [
    "df.info()"
   ]
  },
  {
   "cell_type": "code",
   "execution_count": 8,
   "id": "152cff4c-958a-4e69-8588-8e5f0c63d128",
   "metadata": {},
   "outputs": [],
   "source": [
    "# start of pipeline "
   ]
  },
  {
   "cell_type": "code",
   "execution_count": 9,
   "id": "493220dd-d2e1-4cdb-bb6f-c584e3a9bdfc",
   "metadata": {},
   "outputs": [],
   "source": [
    "data = []"
   ]
  },
  {
   "cell_type": "code",
   "execution_count": 10,
   "id": "e8be625f-537b-49a2-9937-dfe26106ab65",
   "metadata": {},
   "outputs": [],
   "source": [
    "dfd = df.drop(columns=['SpType'])"
   ]
  },
  {
   "cell_type": "code",
   "execution_count": 11,
   "id": "984078bb-6a44-4ddf-9533-5d5bcb57949a",
   "metadata": {},
   "outputs": [],
   "source": [
    "drop_cols = [\"Temperature (K)\" , \"Distance (parsecs)\"]"
   ]
  },
  {
   "cell_type": "code",
   "execution_count": 12,
   "id": "f95bef56-9ae0-4c66-ba25-9dd3c118bfd5",
   "metadata": {},
   "outputs": [],
   "source": [
    "dff, data = p_util.preprocess_data(dfd, \"target\", [\"Temperature (K)\" , \"Distance (parsecs)\"] )"
   ]
  },
  {
   "cell_type": "code",
   "execution_count": null,
   "id": "7312df5f-b384-41b5-9364-a5d0d5acfb21",
   "metadata": {},
   "outputs": [],
   "source": []
  },
  {
   "cell_type": "code",
   "execution_count": null,
   "id": "20e5f55a-da31-4aeb-81f8-518e8c638987",
   "metadata": {},
   "outputs": [
    {
     "name": "stdout",
     "output_type": "stream",
     "text": [
      "svc\n",
      "              precision    recall  f1-score   support\n",
      "\n",
      "           1       0.72      0.15      0.25      4728\n",
      "           0       0.57      0.95      0.71      5606\n",
      "\n",
      "    accuracy                           0.58     10334\n",
      "   macro avg       0.64      0.55      0.48     10334\n",
      "weighted avg       0.64      0.58      0.50     10334\n",
      "\n"
     ]
    }
   ],
   "source": [
    "p_util.run_model(dff, data)"
   ]
  },
  {
   "cell_type": "code",
   "execution_count": null,
   "id": "59130aa9-ed7d-4dbe-9704-afd347f12572",
   "metadata": {},
   "outputs": [],
   "source": [
    "dff, data = p_util.preprocess_data(dfd, \"target\", [\"B-V\", \"Distance (parsecs)\"] )"
   ]
  },
  {
   "cell_type": "code",
   "execution_count": null,
   "id": "55490d43-4a54-4d4b-a1d4-7789523e367f",
   "metadata": {},
   "outputs": [],
   "source": [
    "dff = df.drop(columns=\"SpType\").copy()"
   ]
  },
  {
   "cell_type": "code",
   "execution_count": null,
   "id": "073cab1d-3dfe-45c8-bffd-9a26d9af2ba6",
   "metadata": {},
   "outputs": [],
   "source": [
    "dff.replace([np.inf, -np.inf], np.nan, inplace=True)\n",
    "dff.fillna(dff.mean(), inplace=True)"
   ]
  },
  {
   "cell_type": "code",
   "execution_count": null,
   "id": "886bd25f-24f3-40df-9941-8d8723256f4e",
   "metadata": {},
   "outputs": [],
   "source": [
    "X = dff.drop(columns=[\"target\",\"B-V\", \"SyType\"]).copy()\n",
    "y = dff[\"target\"]"
   ]
  },
  {
   "cell_type": "code",
   "execution_count": null,
   "id": "7ee36769-3e3a-41ba-954f-6ad23801ff48",
   "metadata": {
    "scrolled": true
   },
   "outputs": [],
   "source": [
    "X.info()"
   ]
  },
  {
   "cell_type": "code",
   "execution_count": null,
   "id": "6c4a6f8d-1010-461c-ad7c-37f371d63cc8",
   "metadata": {},
   "outputs": [],
   "source": [
    "X"
   ]
  },
  {
   "cell_type": "code",
   "execution_count": null,
   "id": "cac9a892-d8a8-4b82-a386-1a7718e86ba6",
   "metadata": {},
   "outputs": [],
   "source": [
    "y.info()"
   ]
  },
  {
   "cell_type": "code",
   "execution_count": null,
   "id": "d552cdb8-51f1-45a2-985e-ed5d594c34cb",
   "metadata": {},
   "outputs": [],
   "source": [
    "y"
   ]
  },
  {
   "cell_type": "code",
   "execution_count": null,
   "id": "c9c0c860-3b08-46be-b0b4-b1b1709b5b5c",
   "metadata": {},
   "outputs": [],
   "source": [
    "#labelencoder_X=LabelEncoder()\n",
    "#X[:,4]=labelencoder_X.fit_transform(X[:,4])"
   ]
  },
  {
   "cell_type": "code",
   "execution_count": null,
   "id": "91251eed-3d39-461a-b60c-921d591c7b26",
   "metadata": {},
   "outputs": [],
   "source": [
    "X_train, X_test, y_train, y_test = train_test_split(X, y, random_state = 42)"
   ]
  },
  {
   "cell_type": "code",
   "execution_count": null,
   "id": "95dd1e9c-b9b8-4b7e-9ebb-acf5b8497075",
   "metadata": {},
   "outputs": [],
   "source": [
    "# Instantiate the RandomUnderSampler instance\n",
    "rus = RandomUnderSampler(random_state=42)\n",
    "\n",
    "# Fit the data to the model\n",
    "X_resampled, y_resample = rus.fit_resample(X_train, y_train)"
   ]
  },
  {
   "cell_type": "code",
   "execution_count": null,
   "id": "036c9239-f715-470b-b79f-0bfa17998a2c",
   "metadata": {},
   "outputs": [],
   "source": [
    "y_resampled.value_counts()"
   ]
  },
  {
   "cell_type": "code",
   "execution_count": null,
   "id": "d25edf18-5826-4dc3-8dfa-467d8b0d9a7a",
   "metadata": {},
   "outputs": [],
   "source": [
    "#svc \n",
    "clfr = SVC(kernel=\"rbf\", random_state=42)\n",
    "clfr.fit(X_train, y_train)\n",
    "svc_pred = clfr.predict(X_test)\n",
    "conf_mtx = confusion_matrix(y_test, svc_pred)\n",
    "conf_mtx\n",
    "print(classification_report(y_test, svc_pred, labels = [1, 0]))"
   ]
  },
  {
   "cell_type": "code",
   "execution_count": null,
   "id": "7565f393-b79d-40e1-aa2d-747263049f27",
   "metadata": {},
   "outputs": [],
   "source": [
    "#resampled underfitting svc\n",
    "clfr = SVC(kernel=\"rbf\", random_state=42)\n",
    "clfr.fit(X_resampled, y_resampled)\n",
    "svc_pred = clfr.predict(X_test)\n",
    "print(classification_report(y_test, svc_pred, labels = [1, 0]))"
   ]
  },
  {
   "cell_type": "code",
   "execution_count": null,
   "id": "86982631-e8af-4a66-8ad6-224174f3f025",
   "metadata": {},
   "outputs": [],
   "source": [
    "# random forest \n",
    "clfr = RandomForestClassifier(n_estimators=500, random_state = 42)\n",
    "clfr.fit(X_train, y_train)\n",
    "rf_pred = clfr.predict(X_test)\n",
    "print(classification_report(y_test, rf_pred, labels = [1, 0]))"
   ]
  },
  {
   "cell_type": "code",
   "execution_count": null,
   "id": "4bffa40c-3dd0-4670-8ffc-beba486b4f08",
   "metadata": {},
   "outputs": [],
   "source": [
    "# underfitting resampled random forest \n",
    "clfr = RandomForestClassifier(n_estimators=500, random_state = 42)\n",
    "clfr.fit(X_resampled, y_resampled)\n",
    "rf_pred = clfr.predict(X_test)\n",
    "print(classification_report(y_test, rf_pred, labels = [1, 0]))"
   ]
  },
  {
   "cell_type": "code",
   "execution_count": null,
   "id": "baba0ee9-e46f-4b02-a45f-9f9d811d49c3",
   "metadata": {},
   "outputs": [],
   "source": [
    "#log reggession \n",
    "logreg = LogisticRegression()\n",
    "logreg.fit(X_train, y_train)\n",
    "log_pred = logreg.predict(X_test)\n",
    "print(classification_report(y_test, log_pred, labels = [1, 0]))"
   ]
  },
  {
   "cell_type": "code",
   "execution_count": null,
   "id": "ed99e4e4-17f7-48ca-a200-c58ebc1877ad",
   "metadata": {},
   "outputs": [],
   "source": [
    "# underfitting log reggession \n",
    "logreg = LogisticRegression()\n",
    "logreg.fit(X_resampled, y_resampled)\n",
    "log_pred = logreg.predict(X_test)\n",
    "print(classification_report(y_test, log_pred, labels = [1, 0]))"
   ]
  },
  {
   "cell_type": "code",
   "execution_count": null,
   "id": "62ec10e4-97f8-4b86-8613-75ae8d2b788f",
   "metadata": {},
   "outputs": [],
   "source": [
    "#linear reggession \n",
    "linreg = LinearRegression()\n",
    "linreg.fit(X_train, y_train)\n",
    "lin_pred = linreg.predict(X_test)\n",
    "linreg.score(lin_pred,y_test)"
   ]
  },
  {
   "cell_type": "code",
   "execution_count": null,
   "id": "0b116837-3488-4e55-b291-eef69af5ce61",
   "metadata": {},
   "outputs": [],
   "source": []
  }
 ],
 "metadata": {
  "kernelspec": {
   "display_name": "Python 3 (ipykernel)",
   "language": "python",
   "name": "python3"
  },
  "language_info": {
   "codemirror_mode": {
    "name": "ipython",
    "version": 3
   },
   "file_extension": ".py",
   "mimetype": "text/x-python",
   "name": "python",
   "nbconvert_exporter": "python",
   "pygments_lexer": "ipython3",
   "version": "3.11.7"
  }
 },
 "nbformat": 4,
 "nbformat_minor": 5
}
