{
 "cells": [
  {
   "cell_type": "code",
   "execution_count": 24,
   "id": "6fb64824-0cad-4783-b57c-802a07392a6e",
   "metadata": {},
   "outputs": [
    {
     "data": {
      "text/html": [
       "<div>\n",
       "<style scoped>\n",
       "    .dataframe tbody tr th:only-of-type {\n",
       "        vertical-align: middle;\n",
       "    }\n",
       "\n",
       "    .dataframe tbody tr th {\n",
       "        vertical-align: top;\n",
       "    }\n",
       "\n",
       "    .dataframe thead th {\n",
       "        text-align: right;\n",
       "    }\n",
       "</style>\n",
       "<table border=\"1\" class=\"dataframe\">\n",
       "  <thead>\n",
       "    <tr style=\"text-align: right;\">\n",
       "      <th></th>\n",
       "      <th>Vmag</th>\n",
       "      <th>Plx</th>\n",
       "      <th>e_Plx</th>\n",
       "      <th>B-V</th>\n",
       "      <th>SpType</th>\n",
       "      <th>Amag</th>\n",
       "      <th>TargetClass</th>\n",
       "    </tr>\n",
       "  </thead>\n",
       "  <tbody>\n",
       "    <tr>\n",
       "      <th>0</th>\n",
       "      <td>10.00</td>\n",
       "      <td>31.66</td>\n",
       "      <td>6.19</td>\n",
       "      <td>1.213</td>\n",
       "      <td>K7V</td>\n",
       "      <td>22.502556</td>\n",
       "      <td>1</td>\n",
       "    </tr>\n",
       "    <tr>\n",
       "      <th>1</th>\n",
       "      <td>8.26</td>\n",
       "      <td>3.21</td>\n",
       "      <td>1.00</td>\n",
       "      <td>1.130</td>\n",
       "      <td>K0III</td>\n",
       "      <td>15.792525</td>\n",
       "      <td>0</td>\n",
       "    </tr>\n",
       "    <tr>\n",
       "      <th>2</th>\n",
       "      <td>8.27</td>\n",
       "      <td>12.75</td>\n",
       "      <td>1.06</td>\n",
       "      <td>0.596</td>\n",
       "      <td>F9V</td>\n",
       "      <td>18.797552</td>\n",
       "      <td>1</td>\n",
       "    </tr>\n",
       "    <tr>\n",
       "      <th>3</th>\n",
       "      <td>6.54</td>\n",
       "      <td>5.23</td>\n",
       "      <td>0.76</td>\n",
       "      <td>1.189</td>\n",
       "      <td>K1III</td>\n",
       "      <td>15.132508</td>\n",
       "      <td>0</td>\n",
       "    </tr>\n",
       "    <tr>\n",
       "      <th>4</th>\n",
       "      <td>8.52</td>\n",
       "      <td>0.96</td>\n",
       "      <td>0.72</td>\n",
       "      <td>0.173</td>\n",
       "      <td>B8V</td>\n",
       "      <td>13.431356</td>\n",
       "      <td>1</td>\n",
       "    </tr>\n",
       "  </tbody>\n",
       "</table>\n",
       "</div>"
      ],
      "text/plain": [
       "    Vmag    Plx  e_Plx    B-V SpType       Amag  TargetClass\n",
       "0  10.00  31.66   6.19  1.213    K7V  22.502556            1\n",
       "1   8.26   3.21   1.00  1.130  K0III  15.792525            0\n",
       "2   8.27  12.75   1.06  0.596    F9V  18.797552            1\n",
       "3   6.54   5.23   0.76  1.189  K1III  15.132508            0\n",
       "4   8.52   0.96   0.72  0.173    B8V  13.431356            1"
      ]
     },
     "execution_count": 24,
     "metadata": {},
     "output_type": "execute_result"
    }
   ],
   "source": [
    "# Import the data\n",
    "import pandas as pd\n",
    "import numpy as np\n",
    "from sklearn.model_selection import train_test_split\n",
    "from sklearn.metrics import balanced_accuracy_score\n",
    "from sklearn.preprocessing import OneHotEncoder, OrdinalEncoder\n",
    "from sklearn.metrics import classification_report\n",
    "from sklearn.metrics import confusion_matrix, ConfusionMatrixDisplay\n",
    "df=pd.read_csv(\"../Res/Star39552_balanced.csv\")\n",
    "df.head()"
   ]
  },
  {
   "cell_type": "code",
   "execution_count": 2,
   "id": "d1794460-8d87-49ca-b8eb-ee6cdb45a132",
   "metadata": {},
   "outputs": [],
   "source": [
    "#Vmag - Visual Apparent Magnitude of the Star\n",
    "#Plx - Distance Between the Star and the Earth\n",
    "#e_Plx - Standard Error of Plx (Drop the Row if you find the e_Plx is too high!)\n",
    "#B-V - B-V color index. (A hot star has a B-V color index close to 0 or negative, while a cool star has a B-V color index close to 2.0. Other stars are somewhere in between.)\n",
    "#SpType - Stellar classification. (Roman Numerals >IV are giants. Otherwise are dwarfs)"
   ]
  },
  {
   "cell_type": "code",
   "execution_count": 3,
   "id": "bdc1af0c-4252-472c-b00b-ad6f9d18d7e0",
   "metadata": {},
   "outputs": [
    {
     "data": {
      "text/plain": [
       "TargetClass\n",
       "1    19776\n",
       "0    19776\n",
       "Name: count, dtype: int64"
      ]
     },
     "execution_count": 3,
     "metadata": {},
     "output_type": "execute_result"
    }
   ],
   "source": [
    "df['TargetClass'].value_counts()"
   ]
  },
  {
   "cell_type": "code",
   "execution_count": 4,
   "id": "03ad1668-0ef7-4a44-9d28-b04e06cfc00e",
   "metadata": {},
   "outputs": [
    {
     "data": {
      "text/plain": [
       "<bound method DataFrame.info of         Vmag    Plx  e_Plx    B-V SpType       Amag  TargetClass\n",
       "0      10.00  31.66   6.19  1.213    K7V  22.502556            1\n",
       "1       8.26   3.21   1.00  1.130  K0III  15.792525            0\n",
       "2       8.27  12.75   1.06  0.596    F9V  18.797552            1\n",
       "3       6.54   5.23   0.76  1.189  K1III  15.132508            0\n",
       "4       8.52   0.96   0.72  0.173    B8V  13.431356            1\n",
       "...      ...    ...    ...    ...    ...        ...          ...\n",
       "39547   5.83   0.17   0.52  0.474  B7Iab   6.982245            0\n",
       "39548   7.05  18.12   0.92  0.424    F5V  18.340790            1\n",
       "39549   9.21   3.89   1.46  0.227   A1IV  17.159748            1\n",
       "39550   9.01   2.13   1.46  1.467  M5III  15.651898            0\n",
       "39551   9.12   3.82   0.79  0.480    F5V  17.030317            1\n",
       "\n",
       "[39552 rows x 7 columns]>"
      ]
     },
     "execution_count": 4,
     "metadata": {},
     "output_type": "execute_result"
    }
   ],
   "source": [
    "df.info\n",
    "#No missing values "
   ]
  },
  {
   "cell_type": "code",
   "execution_count": 5,
   "id": "b4459c2b-cca9-4a3c-9489-929be8fc3df8",
   "metadata": {},
   "outputs": [
    {
     "data": {
      "text/html": [
       "<div>\n",
       "<style scoped>\n",
       "    .dataframe tbody tr th:only-of-type {\n",
       "        vertical-align: middle;\n",
       "    }\n",
       "\n",
       "    .dataframe tbody tr th {\n",
       "        vertical-align: top;\n",
       "    }\n",
       "\n",
       "    .dataframe thead th {\n",
       "        text-align: right;\n",
       "    }\n",
       "</style>\n",
       "<table border=\"1\" class=\"dataframe\">\n",
       "  <thead>\n",
       "    <tr style=\"text-align: right;\">\n",
       "      <th></th>\n",
       "      <th>Vmag</th>\n",
       "      <th>Plx</th>\n",
       "      <th>e_Plx</th>\n",
       "      <th>B-V</th>\n",
       "      <th>Amag</th>\n",
       "      <th>TargetClass</th>\n",
       "    </tr>\n",
       "  </thead>\n",
       "  <tbody>\n",
       "    <tr>\n",
       "      <th>count</th>\n",
       "      <td>39552.000000</td>\n",
       "      <td>39552.000000</td>\n",
       "      <td>39552.000000</td>\n",
       "      <td>39552.000000</td>\n",
       "      <td>39552.000000</td>\n",
       "      <td>39552.000000</td>\n",
       "    </tr>\n",
       "    <tr>\n",
       "      <th>mean</th>\n",
       "      <td>7.921309</td>\n",
       "      <td>7.117378</td>\n",
       "      <td>1.109705</td>\n",
       "      <td>0.744336</td>\n",
       "      <td>16.050687</td>\n",
       "      <td>0.500000</td>\n",
       "    </tr>\n",
       "    <tr>\n",
       "      <th>std</th>\n",
       "      <td>1.308857</td>\n",
       "      <td>12.446291</td>\n",
       "      <td>0.788133</td>\n",
       "      <td>0.513987</td>\n",
       "      <td>2.443937</td>\n",
       "      <td>0.500006</td>\n",
       "    </tr>\n",
       "    <tr>\n",
       "      <th>min</th>\n",
       "      <td>-0.620000</td>\n",
       "      <td>-27.840000</td>\n",
       "      <td>0.420000</td>\n",
       "      <td>-0.400000</td>\n",
       "      <td>-0.350000</td>\n",
       "      <td>0.000000</td>\n",
       "    </tr>\n",
       "    <tr>\n",
       "      <th>25%</th>\n",
       "      <td>7.210000</td>\n",
       "      <td>2.430000</td>\n",
       "      <td>0.800000</td>\n",
       "      <td>0.358000</td>\n",
       "      <td>14.756514</td>\n",
       "      <td>0.000000</td>\n",
       "    </tr>\n",
       "    <tr>\n",
       "      <th>50%</th>\n",
       "      <td>8.160000</td>\n",
       "      <td>4.440000</td>\n",
       "      <td>0.990000</td>\n",
       "      <td>0.703000</td>\n",
       "      <td>16.020827</td>\n",
       "      <td>0.500000</td>\n",
       "    </tr>\n",
       "    <tr>\n",
       "      <th>75%</th>\n",
       "      <td>8.830000</td>\n",
       "      <td>8.232500</td>\n",
       "      <td>1.230000</td>\n",
       "      <td>1.129000</td>\n",
       "      <td>17.590542</td>\n",
       "      <td>1.000000</td>\n",
       "    </tr>\n",
       "    <tr>\n",
       "      <th>max</th>\n",
       "      <td>12.850000</td>\n",
       "      <td>772.330000</td>\n",
       "      <td>40.630000</td>\n",
       "      <td>3.440000</td>\n",
       "      <td>30.449015</td>\n",
       "      <td>1.000000</td>\n",
       "    </tr>\n",
       "  </tbody>\n",
       "</table>\n",
       "</div>"
      ],
      "text/plain": [
       "               Vmag           Plx         e_Plx           B-V          Amag  \\\n",
       "count  39552.000000  39552.000000  39552.000000  39552.000000  39552.000000   \n",
       "mean       7.921309      7.117378      1.109705      0.744336     16.050687   \n",
       "std        1.308857     12.446291      0.788133      0.513987      2.443937   \n",
       "min       -0.620000    -27.840000      0.420000     -0.400000     -0.350000   \n",
       "25%        7.210000      2.430000      0.800000      0.358000     14.756514   \n",
       "50%        8.160000      4.440000      0.990000      0.703000     16.020827   \n",
       "75%        8.830000      8.232500      1.230000      1.129000     17.590542   \n",
       "max       12.850000    772.330000     40.630000      3.440000     30.449015   \n",
       "\n",
       "        TargetClass  \n",
       "count  39552.000000  \n",
       "mean       0.500000  \n",
       "std        0.500006  \n",
       "min        0.000000  \n",
       "25%        0.000000  \n",
       "50%        0.500000  \n",
       "75%        1.000000  \n",
       "max        1.000000  "
      ]
     },
     "execution_count": 5,
     "metadata": {},
     "output_type": "execute_result"
    }
   ],
   "source": [
    "df.describe()"
   ]
  },
  {
   "cell_type": "code",
   "execution_count": 6,
   "id": "c720fe5c-d85c-4da9-88cb-7b540122deb6",
   "metadata": {},
   "outputs": [
    {
     "data": {
      "text/plain": [
       "<bound method IndexOpsMixin.nunique of 0          K7V\n",
       "1        K0III\n",
       "2          F9V\n",
       "3        K1III\n",
       "4          B8V\n",
       "         ...  \n",
       "39547    B7Iab\n",
       "39548      F5V\n",
       "39549     A1IV\n",
       "39550    M5III\n",
       "39551      F5V\n",
       "Name: SpType, Length: 39552, dtype: object>"
      ]
     },
     "execution_count": 6,
     "metadata": {},
     "output_type": "execute_result"
    }
   ],
   "source": [
    "# Check unique counts for text variable \n",
    "unique_count_sptype = df['SpType'].nunique\n",
    "unique_count_sptype\n",
    "# Looks like the text field has unique values for this field  and it is also used to code the target variable and hence it should be dropped"
   ]
  },
  {
   "cell_type": "code",
   "execution_count": 7,
   "id": "29a5b892-a0f2-41b7-95ae-88dde0c2eecd",
   "metadata": {},
   "outputs": [
    {
     "name": "stdout",
     "output_type": "stream",
     "text": [
      "<class 'pandas.core.frame.DataFrame'>\n",
      "RangeIndex: 39552 entries, 0 to 39551\n",
      "Data columns (total 6 columns):\n",
      " #   Column       Non-Null Count  Dtype  \n",
      "---  ------       --------------  -----  \n",
      " 0   Vmag         39552 non-null  float64\n",
      " 1   Plx          39552 non-null  float64\n",
      " 2   e_Plx        39552 non-null  float64\n",
      " 3   B-V          39552 non-null  float64\n",
      " 4   Amag         39552 non-null  float64\n",
      " 5   TargetClass  39552 non-null  int64  \n",
      "dtypes: float64(5), int64(1)\n",
      "memory usage: 1.8 MB\n"
     ]
    }
   ],
   "source": [
    "# Drop SpType\n",
    "df2 = df.drop(columns='SpType')\n",
    "df2.info()"
   ]
  },
  {
   "cell_type": "code",
   "execution_count": 11,
   "id": "1aff6a4e-e262-4f5c-8858-ec0f71751153",
   "metadata": {},
   "outputs": [
    {
     "name": "stdout",
     "output_type": "stream",
     "text": [
      "        Vmag    Plx  e_Plx    B-V SpType       Amag  TargetClass\n",
      "0      10.00  31.66   6.19  1.213    K7V  22.502556            1\n",
      "1       8.26   3.21   1.00  1.130  K0III  15.792525            0\n",
      "2       8.27  12.75   1.06  0.596    F9V  18.797552            1\n",
      "3       6.54   5.23   0.76  1.189  K1III  15.132508            0\n",
      "4       8.52   0.96   0.72  0.173    B8V  13.431356            1\n",
      "...      ...    ...    ...    ...    ...        ...          ...\n",
      "39547   5.83   0.17   0.52  0.474  B7Iab   6.982245            0\n",
      "39548   7.05  18.12   0.92  0.424    F5V  18.340790            1\n",
      "39549   9.21   3.89   1.46  0.227   A1IV  17.159748            1\n",
      "39550   9.01   2.13   1.46  1.467  M5III  15.651898            0\n",
      "39551   9.12   3.82   0.79  0.480    F5V  17.030317            1\n",
      "\n",
      "[39552 rows x 7 columns]\n",
      "           Vmag       Plx     e_Plx       B-V      Amag  TargetClass\n",
      "0      1.588193  1.971907  6.446066  0.911833  2.639982            1\n",
      "1      0.258771 -0.313943 -0.139198  0.750348 -0.105635            0\n",
      "2      0.266412  0.452560 -0.063068 -0.288602  1.123965            1\n",
      "3     -1.055369 -0.151644 -0.443719  0.865138 -0.375701            0\n",
      "4      0.457421 -0.494722 -0.494473 -1.111590 -1.071780            1\n",
      "...         ...       ...       ...       ...       ...          ...\n",
      "39547 -1.597834 -0.558196 -0.748240 -0.525965 -3.710634            0\n",
      "39548 -0.665711  0.884019 -0.240705 -0.623245  0.937067            1\n",
      "39549  0.984605 -0.259308  0.444467 -1.006528  0.453807            1\n",
      "39550  0.831798 -0.400717  0.444467  1.406015 -0.163177            0\n",
      "39551  0.915842 -0.264932 -0.405654 -0.514291  0.400846            1\n",
      "\n",
      "[39552 rows x 6 columns]\n"
     ]
    }
   ],
   "source": [
    "# Scale the data \n",
    "from sklearn.preprocessing import StandardScaler\n",
    "\n",
    "#Initialize the StandardScaler\n",
    "scaler = StandardScaler()\n",
    "# Specify the columns to scale\n",
    "columns_to_scale = ['Vmag', 'Plx','e_Plx','B-V','Amag']\n",
    "\n",
    "# Fit the scaler on the specified columns and transform them\n",
    "df2[columns_to_scale]= scaler.fit_transform(df2[columns_to_scale])\n",
    "print(df)\n",
    "print(df2)\n"
   ]
  },
  {
   "cell_type": "code",
   "execution_count": 13,
   "id": "1269de01-c59e-42a1-a5c7-51300b528a6c",
   "metadata": {},
   "outputs": [],
   "source": [
    "# define X and y dataframes\n",
    "X = df2.drop(columns='TargetClass')\n",
    "y = df2['TargetClass']"
   ]
  },
  {
   "cell_type": "code",
   "execution_count": 16,
   "id": "6ac5298a-2c0f-41f9-a463-423767629a11",
   "metadata": {},
   "outputs": [
    {
     "name": "stdout",
     "output_type": "stream",
     "text": [
      "               Vmag           Plx         e_Plx           B-V          Amag\n",
      "count  29664.000000  29664.000000  29664.000000  29664.000000  29664.000000\n",
      "mean      -0.004170      0.002951     -0.003266      0.000605      0.002415\n",
      "std        1.002264      1.035449      0.976312      1.000114      0.993539\n",
      "min       -6.525860     -1.891943     -0.875124     -2.226419     -5.516040\n",
      "25%       -0.543465     -0.375810     -0.392966     -0.747763     -0.525208\n",
      "50%        0.174728     -0.214314     -0.151887     -0.082368     -0.010117\n",
      "75%        0.686631      0.091805      0.152634      0.744511      0.627819\n",
      "max        3.544122     61.481954     41.174137      5.244682      5.891522\n",
      "              Vmag          Plx        e_Plx          B-V         Amag\n",
      "count  9888.000000  9888.000000  9888.000000  9888.000000  9888.000000\n",
      "mean      0.012510    -0.008854     0.009798    -0.001815    -0.007244\n",
      "std       0.993174     0.885221     1.067955     0.999758     1.019202\n",
      "min      -5.097115    -2.808694    -0.862435    -2.226419    -6.710849\n",
      "25%      -0.558746    -0.379827    -0.380277    -0.761382    -0.546914\n",
      "50%       0.182368    -0.216724    -0.164575    -0.074586    -0.018096\n",
      "75%       0.701912     0.084574     0.165323     0.754239     0.633698\n",
      "max       3.765693    26.463047    50.144815     4.116234     5.400566\n"
     ]
    }
   ],
   "source": [
    "# Split the data into training and testing sets\n",
    "X_train, X_test, y_train, y_test = train_test_split(X,y,random_state=55)\n",
    "print(X_train.describe())\n",
    "print(X_test.describe())"
   ]
  },
  {
   "cell_type": "code",
   "execution_count": 17,
   "id": "ee48106e-38cc-4dec-938f-aa4a21f70247",
   "metadata": {},
   "outputs": [
    {
     "data": {
      "text/html": [
       "<style>#sk-container-id-1 {color: black;background-color: white;}#sk-container-id-1 pre{padding: 0;}#sk-container-id-1 div.sk-toggleable {background-color: white;}#sk-container-id-1 label.sk-toggleable__label {cursor: pointer;display: block;width: 100%;margin-bottom: 0;padding: 0.3em;box-sizing: border-box;text-align: center;}#sk-container-id-1 label.sk-toggleable__label-arrow:before {content: \"▸\";float: left;margin-right: 0.25em;color: #696969;}#sk-container-id-1 label.sk-toggleable__label-arrow:hover:before {color: black;}#sk-container-id-1 div.sk-estimator:hover label.sk-toggleable__label-arrow:before {color: black;}#sk-container-id-1 div.sk-toggleable__content {max-height: 0;max-width: 0;overflow: hidden;text-align: left;background-color: #f0f8ff;}#sk-container-id-1 div.sk-toggleable__content pre {margin: 0.2em;color: black;border-radius: 0.25em;background-color: #f0f8ff;}#sk-container-id-1 input.sk-toggleable__control:checked~div.sk-toggleable__content {max-height: 200px;max-width: 100%;overflow: auto;}#sk-container-id-1 input.sk-toggleable__control:checked~label.sk-toggleable__label-arrow:before {content: \"▾\";}#sk-container-id-1 div.sk-estimator input.sk-toggleable__control:checked~label.sk-toggleable__label {background-color: #d4ebff;}#sk-container-id-1 div.sk-label input.sk-toggleable__control:checked~label.sk-toggleable__label {background-color: #d4ebff;}#sk-container-id-1 input.sk-hidden--visually {border: 0;clip: rect(1px 1px 1px 1px);clip: rect(1px, 1px, 1px, 1px);height: 1px;margin: -1px;overflow: hidden;padding: 0;position: absolute;width: 1px;}#sk-container-id-1 div.sk-estimator {font-family: monospace;background-color: #f0f8ff;border: 1px dotted black;border-radius: 0.25em;box-sizing: border-box;margin-bottom: 0.5em;}#sk-container-id-1 div.sk-estimator:hover {background-color: #d4ebff;}#sk-container-id-1 div.sk-parallel-item::after {content: \"\";width: 100%;border-bottom: 1px solid gray;flex-grow: 1;}#sk-container-id-1 div.sk-label:hover label.sk-toggleable__label {background-color: #d4ebff;}#sk-container-id-1 div.sk-serial::before {content: \"\";position: absolute;border-left: 1px solid gray;box-sizing: border-box;top: 0;bottom: 0;left: 50%;z-index: 0;}#sk-container-id-1 div.sk-serial {display: flex;flex-direction: column;align-items: center;background-color: white;padding-right: 0.2em;padding-left: 0.2em;position: relative;}#sk-container-id-1 div.sk-item {position: relative;z-index: 1;}#sk-container-id-1 div.sk-parallel {display: flex;align-items: stretch;justify-content: center;background-color: white;position: relative;}#sk-container-id-1 div.sk-item::before, #sk-container-id-1 div.sk-parallel-item::before {content: \"\";position: absolute;border-left: 1px solid gray;box-sizing: border-box;top: 0;bottom: 0;left: 50%;z-index: -1;}#sk-container-id-1 div.sk-parallel-item {display: flex;flex-direction: column;z-index: 1;position: relative;background-color: white;}#sk-container-id-1 div.sk-parallel-item:first-child::after {align-self: flex-end;width: 50%;}#sk-container-id-1 div.sk-parallel-item:last-child::after {align-self: flex-start;width: 50%;}#sk-container-id-1 div.sk-parallel-item:only-child::after {width: 0;}#sk-container-id-1 div.sk-dashed-wrapped {border: 1px dashed gray;margin: 0 0.4em 0.5em 0.4em;box-sizing: border-box;padding-bottom: 0.4em;background-color: white;}#sk-container-id-1 div.sk-label label {font-family: monospace;font-weight: bold;display: inline-block;line-height: 1.2em;}#sk-container-id-1 div.sk-label-container {text-align: center;}#sk-container-id-1 div.sk-container {/* jupyter's `normalize.less` sets `[hidden] { display: none; }` but bootstrap.min.css set `[hidden] { display: none !important; }` so we also need the `!important` here to be able to override the default hidden behavior on the sphinx rendered scikit-learn.org. See: https://github.com/scikit-learn/scikit-learn/issues/21755 */display: inline-block !important;position: relative;}#sk-container-id-1 div.sk-text-repr-fallback {display: none;}</style><div id=\"sk-container-id-1\" class=\"sk-top-container\"><div class=\"sk-text-repr-fallback\"><pre>RandomForestClassifier(n_estimators=500)</pre><b>In a Jupyter environment, please rerun this cell to show the HTML representation or trust the notebook. <br />On GitHub, the HTML representation is unable to render, please try loading this page with nbviewer.org.</b></div><div class=\"sk-container\" hidden><div class=\"sk-item\"><div class=\"sk-estimator sk-toggleable\"><input class=\"sk-toggleable__control sk-hidden--visually\" id=\"sk-estimator-id-1\" type=\"checkbox\" checked><label for=\"sk-estimator-id-1\" class=\"sk-toggleable__label sk-toggleable__label-arrow\">RandomForestClassifier</label><div class=\"sk-toggleable__content\"><pre>RandomForestClassifier(n_estimators=500)</pre></div></div></div></div></div>"
      ],
      "text/plain": [
       "RandomForestClassifier(n_estimators=500)"
      ]
     },
     "execution_count": 17,
     "metadata": {},
     "output_type": "execute_result"
    }
   ],
   "source": [
    "#Create a random Classifier model \n",
    "from sklearn.ensemble import RandomForestClassifier\n",
    "\n",
    "model = RandomForestClassifier(n_estimators=500)\n",
    "model.fit(X_train, y_train)"
   ]
  },
  {
   "cell_type": "code",
   "execution_count": 18,
   "id": "4d6b3d4d-37fd-40de-8ef9-b8d1706d7dd2",
   "metadata": {},
   "outputs": [
    {
     "name": "stdout",
     "output_type": "stream",
     "text": [
      "0.8758428927971565\n"
     ]
    }
   ],
   "source": [
    "# Check the model's balanced accuracy on the test set\n",
    "\n",
    "y_test_pred = model.predict(X_test)\n",
    "print(balanced_accuracy_score(y_test, y_test_pred))"
   ]
  },
  {
   "cell_type": "code",
   "execution_count": 27,
   "id": "9639bc75-c16a-473b-a989-d0de66538e00",
   "metadata": {},
   "outputs": [
    {
     "name": "stdout",
     "output_type": "stream",
     "text": [
      "[[4246  707]\n",
      " [ 521 4414]]\n"
     ]
    },
    {
     "data": {
      "text/plain": [
       "Text(0.5, 1.0, 'Confusion Matrix')"
      ]
     },
     "execution_count": 27,
     "metadata": {},
     "output_type": "execute_result"
    },
    {
     "data": {
      "image/png": "[encoded data removed]",
      "text/plain": [
       "<Figure size 640x480 with 2 Axes>"
      ]
     },
     "metadata": {},
     "output_type": "display_data"
    }
   ],
   "source": [
    "cm = confusion_matrix(y_test, y_test_pred)\n",
    "print(cm)\n",
    "# Display the confusion matrix\n",
    "cm_display = ConfusionMatrixDisplay(confusion_matrix=cm)\n",
    "cm_display.plot(cmap='Blues')\n",
    "cm_display.ax_.set_title('Confusion Matrix')"
   ]
  },
  {
   "cell_type": "code",
   "execution_count": 28,
   "id": "7ecd1336-fe8e-4f8a-b9d0-8c5fc316a757",
   "metadata": {},
   "outputs": [
    {
     "name": "stdout",
     "output_type": "stream",
     "text": [
      "Classification Report - Original Data\n",
      "              precision    recall  f1-score   support\n",
      "\n",
      "           0       0.89      0.86      0.87      4953\n",
      "           1       0.86      0.89      0.88      4935\n",
      "\n",
      "    accuracy                           0.88      9888\n",
      "   macro avg       0.88      0.88      0.88      9888\n",
      "weighted avg       0.88      0.88      0.88      9888\n",
      "\n"
     ]
    }
   ],
   "source": [
    "print(f\"Classification Report - Original Data\")\n",
    "print(classification_report(y_test, y_test_pred))"
   ]
  },
  {
   "cell_type": "code",
   "execution_count": null,
   "id": "06660471-f8e3-449e-9ac6-6c230717bb51",
   "metadata": {},
   "outputs": [],
   "source": []
  }
 ],
 "metadata": {
  "kernelspec": {
   "display_name": "Python 3 (ipykernel)",
   "language": "python",
   "name": "python3"
  },
  "language_info": {
   "codemirror_mode": {
    "name": "ipython",
    "version": 3
   },
   "file_extension": ".py",
   "mimetype": "text/x-python",
   "name": "python",
   "nbconvert_exporter": "python",
   "pygments_lexer": "ipython3",
   "version": "3.11.7"
  }
 },
 "nbformat": 4,
 "nbformat_minor": 5
}
