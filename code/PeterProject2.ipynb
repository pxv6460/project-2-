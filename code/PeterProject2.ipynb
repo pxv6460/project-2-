{
 "cells": [
  {
   "cell_type": "code",
   "execution_count": 1,
   "id": "32f950af-5b74-4000-a2b9-9793dd0e0fbb",
   "metadata": {},
   "outputs": [],
   "source": [
    "import pandas as pd\n",
    "from sklearn.preprocessing import LabelEncoder, OneHotEncoder\n",
    "from sklearn.model_selection import train_test_split\n",
    "from sklearn.svm import SVC\n",
    "from sklearn.linear_model import LogisticRegression, LinearRegression\n",
    "from sklearn.ensemble import RandomForestClassifier\n",
    "from sklearn.metrics import confusion_matrix,classification_report\n",
    "from sklearn.preprocessing import StandardScaler\n",
    "from sklearn.utils import resample\n",
    "from imblearn.under_sampling import RandomUnderSampler\n",
    "import seaborn as sn\n",
    "import matplotlib.pyplot as plt\n",
    "import numpy as np\n",
    "#import sweetviz as sv\n"
   ]
  },
  {
   "cell_type": "code",
   "execution_count": 2,
   "id": "ed69b5c3-a011-4270-8219-897c2e1a1acd",
   "metadata": {},
   "outputs": [],
   "source": [
    "#open the compressed data\n",
    "#with gzip.open(\"../Res/athyg_v24.csv.gz\", 'rt') as reader_ath_hyg:\n",
    "#    ath_hyg=pd.read_csv(reader_ath_hyg, low_memory=False)\n",
    "#    \n",
    "#with gzip.open(\"../Res/hygdata_v37.csv.gz\", 'rt') as reader_hyg:\n",
    "#    hyg=pd.read_csv(reader_hyg, low_memory=False)\n"
   ]
  },
  {
   "cell_type": "code",
   "execution_count": 3,
   "id": "502d862a-dc01-45bd-8aa3-d78023b44d97",
   "metadata": {},
   "outputs": [],
   "source": [
    "df=pd.read_csv(\"../Res/processed_raw_data.csv\")"
   ]
  },
  {
   "cell_type": "code",
   "execution_count": 4,
   "id": "d2bba945-3580-4228-aee7-b3f37e84bdb9",
   "metadata": {},
   "outputs": [],
   "source": [
    "#ath_hyg"
   ]
  },
  {
   "cell_type": "code",
   "execution_count": 5,
   "id": "4d1f7a2f-52cb-4e32-89f0-31a7f7978b2b",
   "metadata": {
    "scrolled": true
   },
   "outputs": [
    {
     "data": {
      "text/plain": [
       "target\n",
       "0.0    26010\n",
       "1.0    18558\n",
       "Name: count, dtype: int64"
      ]
     },
     "execution_count": 5,
     "metadata": {},
     "output_type": "execute_result"
    }
   ],
   "source": [
    "df[\"target\"].value_counts()"
   ]
  },
  {
   "cell_type": "code",
   "execution_count": 6,
   "id": "24bc209a-dbf7-4fbc-a7e7-a32a2f14f158",
   "metadata": {},
   "outputs": [],
   "source": [
    "# ReportVisualizationPartTwo = sv.analyze(df)\n",
    "# ReportVisualizationPartTwo.show_notebook()"
   ]
  },
  {
   "cell_type": "code",
   "execution_count": 7,
   "id": "32efb2a1-169d-43fe-be74-340c54453ee1",
   "metadata": {},
   "outputs": [
    {
     "name": "stdout",
     "output_type": "stream",
     "text": [
      "<class 'pandas.core.frame.DataFrame'>\n",
      "RangeIndex: 44568 entries, 0 to 44567\n",
      "Data columns (total 7 columns):\n",
      " #   Column  Non-Null Count  Dtype  \n",
      "---  ------  --------------  -----  \n",
      " 0   Vmag    44568 non-null  float64\n",
      " 1   Plx     44568 non-null  float64\n",
      " 2   e_Plx   44568 non-null  float64\n",
      " 3   B-V     44568 non-null  float64\n",
      " 4   SpType  44568 non-null  object \n",
      " 5   Amag    44568 non-null  float64\n",
      " 6   target  44568 non-null  float64\n",
      "dtypes: float64(6), object(1)\n",
      "memory usage: 2.4+ MB\n"
     ]
    }
   ],
   "source": [
    "df.info()"
   ]
  },
  {
   "cell_type": "code",
   "execution_count": 8,
   "id": "55490d43-4a54-4d4b-a1d4-7789523e367f",
   "metadata": {},
   "outputs": [],
   "source": [
    "dff = df.drop(columns=\"SpType\").copy()"
   ]
  },
  {
   "cell_type": "code",
   "execution_count": 9,
   "id": "073cab1d-3dfe-45c8-bffd-9a26d9af2ba6",
   "metadata": {},
   "outputs": [],
   "source": [
    "## df has inifinite values in it and there where some nulls\n",
    "dff.replace([np.inf, -np.inf], np.nan, inplace=True)\n",
    "dff.fillna(dff.mean(), inplace=True)"
   ]
  },
  {
   "cell_type": "code",
   "execution_count": 10,
   "id": "886bd25f-24f3-40df-9941-8d8723256f4e",
   "metadata": {},
   "outputs": [],
   "source": [
    "X = dff.drop(columns=[\"target\",\"B-V\"]).copy()\n",
    "y = dff[\"target\"]"
   ]
  },
  {
   "cell_type": "code",
   "execution_count": 11,
   "id": "7ee36769-3e3a-41ba-954f-6ad23801ff48",
   "metadata": {
    "scrolled": true
   },
   "outputs": [
    {
     "name": "stdout",
     "output_type": "stream",
     "text": [
      "<class 'pandas.core.frame.DataFrame'>\n",
      "RangeIndex: 44568 entries, 0 to 44567\n",
      "Data columns (total 4 columns):\n",
      " #   Column  Non-Null Count  Dtype  \n",
      "---  ------  --------------  -----  \n",
      " 0   Vmag    44568 non-null  float64\n",
      " 1   Plx     44568 non-null  float64\n",
      " 2   e_Plx   44568 non-null  float64\n",
      " 3   Amag    44568 non-null  float64\n",
      "dtypes: float64(4)\n",
      "memory usage: 1.4 MB\n"
     ]
    }
   ],
   "source": [
    "X.info()"
   ]
  },
  {
   "cell_type": "code",
   "execution_count": 12,
   "id": "6c4a6f8d-1010-461c-ad7c-37f371d63cc8",
   "metadata": {},
   "outputs": [
    {
     "data": {
      "text/html": [
       "<div>\n",
       "<style scoped>\n",
       "    .dataframe tbody tr th:only-of-type {\n",
       "        vertical-align: middle;\n",
       "    }\n",
       "\n",
       "    .dataframe tbody tr th {\n",
       "        vertical-align: top;\n",
       "    }\n",
       "\n",
       "    .dataframe thead th {\n",
       "        text-align: right;\n",
       "    }\n",
       "</style>\n",
       "<table border=\"1\" class=\"dataframe\">\n",
       "  <thead>\n",
       "    <tr style=\"text-align: right;\">\n",
       "      <th></th>\n",
       "      <th>Vmag</th>\n",
       "      <th>Plx</th>\n",
       "      <th>e_Plx</th>\n",
       "      <th>Amag</th>\n",
       "    </tr>\n",
       "  </thead>\n",
       "  <tbody>\n",
       "    <tr>\n",
       "      <th>0</th>\n",
       "      <td>9.27</td>\n",
       "      <td>21.90</td>\n",
       "      <td>3.10</td>\n",
       "      <td>20.972221</td>\n",
       "    </tr>\n",
       "    <tr>\n",
       "      <th>1</th>\n",
       "      <td>8.06</td>\n",
       "      <td>7.75</td>\n",
       "      <td>0.97</td>\n",
       "      <td>17.506509</td>\n",
       "    </tr>\n",
       "    <tr>\n",
       "      <th>2</th>\n",
       "      <td>8.55</td>\n",
       "      <td>2.87</td>\n",
       "      <td>1.11</td>\n",
       "      <td>15.839409</td>\n",
       "    </tr>\n",
       "    <tr>\n",
       "      <th>3</th>\n",
       "      <td>12.31</td>\n",
       "      <td>18.80</td>\n",
       "      <td>4.99</td>\n",
       "      <td>23.680789</td>\n",
       "    </tr>\n",
       "    <tr>\n",
       "      <th>4</th>\n",
       "      <td>8.59</td>\n",
       "      <td>10.76</td>\n",
       "      <td>1.10</td>\n",
       "      <td>18.749061</td>\n",
       "    </tr>\n",
       "    <tr>\n",
       "      <th>...</th>\n",
       "      <td>...</td>\n",
       "      <td>...</td>\n",
       "      <td>...</td>\n",
       "      <td>...</td>\n",
       "    </tr>\n",
       "    <tr>\n",
       "      <th>44563</th>\n",
       "      <td>8.05</td>\n",
       "      <td>6.24</td>\n",
       "      <td>1.17</td>\n",
       "      <td>17.025923</td>\n",
       "    </tr>\n",
       "    <tr>\n",
       "      <th>44564</th>\n",
       "      <td>9.26</td>\n",
       "      <td>2.68</td>\n",
       "      <td>1.36</td>\n",
       "      <td>16.400674</td>\n",
       "    </tr>\n",
       "    <tr>\n",
       "      <th>44565</th>\n",
       "      <td>8.79</td>\n",
       "      <td>0.89</td>\n",
       "      <td>1.28</td>\n",
       "      <td>13.536950</td>\n",
       "    </tr>\n",
       "    <tr>\n",
       "      <th>44566</th>\n",
       "      <td>7.69</td>\n",
       "      <td>6.60</td>\n",
       "      <td>0.92</td>\n",
       "      <td>16.787720</td>\n",
       "    </tr>\n",
       "    <tr>\n",
       "      <th>44567</th>\n",
       "      <td>6.98</td>\n",
       "      <td>2.97</td>\n",
       "      <td>0.76</td>\n",
       "      <td>14.343782</td>\n",
       "    </tr>\n",
       "  </tbody>\n",
       "</table>\n",
       "<p>44568 rows × 4 columns</p>\n",
       "</div>"
      ],
      "text/plain": [
       "        Vmag    Plx  e_Plx       Amag\n",
       "0       9.27  21.90   3.10  20.972221\n",
       "1       8.06   7.75   0.97  17.506509\n",
       "2       8.55   2.87   1.11  15.839409\n",
       "3      12.31  18.80   4.99  23.680789\n",
       "4       8.59  10.76   1.10  18.749061\n",
       "...      ...    ...    ...        ...\n",
       "44563   8.05   6.24   1.17  17.025923\n",
       "44564   9.26   2.68   1.36  16.400674\n",
       "44565   8.79   0.89   1.28  13.536950\n",
       "44566   7.69   6.60   0.92  16.787720\n",
       "44567   6.98   2.97   0.76  14.343782\n",
       "\n",
       "[44568 rows x 4 columns]"
      ]
     },
     "execution_count": 12,
     "metadata": {},
     "output_type": "execute_result"
    }
   ],
   "source": [
    "X"
   ]
  },
  {
   "cell_type": "code",
   "execution_count": 13,
   "id": "cac9a892-d8a8-4b82-a386-1a7718e86ba6",
   "metadata": {},
   "outputs": [
    {
     "name": "stdout",
     "output_type": "stream",
     "text": [
      "<class 'pandas.core.series.Series'>\n",
      "RangeIndex: 44568 entries, 0 to 44567\n",
      "Series name: target\n",
      "Non-Null Count  Dtype  \n",
      "--------------  -----  \n",
      "44568 non-null  float64\n",
      "dtypes: float64(1)\n",
      "memory usage: 348.3 KB\n"
     ]
    }
   ],
   "source": [
    "y.info()"
   ]
  },
  {
   "cell_type": "code",
   "execution_count": 14,
   "id": "d552cdb8-51f1-45a2-985e-ed5d594c34cb",
   "metadata": {},
   "outputs": [
    {
     "data": {
      "text/plain": [
       "0        0.0\n",
       "1        0.0\n",
       "2        1.0\n",
       "3        0.0\n",
       "4        0.0\n",
       "        ... \n",
       "44563    1.0\n",
       "44564    0.0\n",
       "44565    1.0\n",
       "44566    1.0\n",
       "44567    0.0\n",
       "Name: target, Length: 44568, dtype: float64"
      ]
     },
     "execution_count": 14,
     "metadata": {},
     "output_type": "execute_result"
    }
   ],
   "source": [
    "y"
   ]
  },
  {
   "cell_type": "code",
   "execution_count": 15,
   "id": "c9c0c860-3b08-46be-b0b4-b1b1709b5b5c",
   "metadata": {},
   "outputs": [],
   "source": [
    "#labelencoder_X=LabelEncoder()\n",
    "#X[:,4]=labelencoder_X.fit_transform(X[:,4])"
   ]
  },
  {
   "cell_type": "code",
   "execution_count": 16,
   "id": "91251eed-3d39-461a-b60c-921d591c7b26",
   "metadata": {},
   "outputs": [],
   "source": [
    "X_train, X_test, y_train, y_test = train_test_split(X, y, random_state = 42)"
   ]
  },
  {
   "cell_type": "code",
   "execution_count": 17,
   "id": "95dd1e9c-b9b8-4b7e-9ebb-acf5b8497075",
   "metadata": {},
   "outputs": [
    {
     "ename": "TypeError",
     "evalue": "RandomUnderSampler.__init__() got an unexpected keyword argument 'n_samples'",
     "output_type": "error",
     "traceback": [
      "\u001b[1;31m---------------------------------------------------------------------------\u001b[0m",
      "\u001b[1;31mTypeError\u001b[0m                                 Traceback (most recent call last)",
      "Cell \u001b[1;32mIn[17], line 2\u001b[0m\n\u001b[0;32m      1\u001b[0m \u001b[38;5;66;03m# Instantiate the RandomUnderSampler instance\u001b[39;00m\n\u001b[1;32m----> 2\u001b[0m rus \u001b[38;5;241m=\u001b[39m RandomUnderSampler(n_samples \u001b[38;5;241m=\u001b[39m \u001b[38;5;241m18558\u001b[39m ,random_state\u001b[38;5;241m=\u001b[39m\u001b[38;5;241m42\u001b[39m)\n\u001b[0;32m      4\u001b[0m \u001b[38;5;66;03m# Fit the data to the model\u001b[39;00m\n\u001b[0;32m      5\u001b[0m X_resampled, y_resampled \u001b[38;5;241m=\u001b[39m rus\u001b[38;5;241m.\u001b[39mfit_resample(X_train, y_train)\n",
      "\u001b[1;31mTypeError\u001b[0m: RandomUnderSampler.__init__() got an unexpected keyword argument 'n_samples'"
     ]
    }
   ],
   "source": [
    "# Instantiate the RandomUnderSampler instance\n",
    "rus = RandomUnderSampler(random_state=42)\n",
    "\n",
    "# Fit the data to the model\n",
    "X_resampled, y_resampled = rus.fit_resample(X_train, y_train)"
   ]
  },
  {
   "cell_type": "code",
   "execution_count": null,
   "id": "036c9239-f715-470b-b79f-0bfa17998a2c",
   "metadata": {},
   "outputs": [],
   "source": [
    "y_resampled.value_counts()"
   ]
  },
  {
   "cell_type": "code",
   "execution_count": null,
   "id": "d25edf18-5826-4dc3-8dfa-467d8b0d9a7a",
   "metadata": {},
   "outputs": [],
   "source": [
    "#svc \n",
    "clfr = SVC(kernel=\"rbf\", random_state=42)\n",
    "clfr.fit(X_train, y_train)\n",
    "svc_pred = clfr.predict(X_test)\n",
    "conf_mtx = confusion_matrix(y_test, svc_pred)\n",
    "conf_mtx\n",
    "print(classification_report(y_test, svc_pred, labels = [1, 0]))"
   ]
  },
  {
   "cell_type": "code",
   "execution_count": null,
   "id": "7565f393-b79d-40e1-aa2d-747263049f27",
   "metadata": {},
   "outputs": [],
   "source": [
    "#resampled underfitting svc\n",
    "clfr = SVC(kernel=\"rbf\", random_state=42)\n",
    "clfr.fit(X_resampled, y_resampled)\n",
    "svc_pred = clfr.predict(X_test)\n",
    "print(classification_report(y_test, svc_pred, labels = [1, 0]))"
   ]
  },
  {
   "cell_type": "code",
   "execution_count": null,
   "id": "86982631-e8af-4a66-8ad6-224174f3f025",
   "metadata": {},
   "outputs": [],
   "source": [
    "# random forest \n",
    "clfr = RandomForestClassifier(n_estimators=500, random_state = 42)\n",
    "clfr.fit(X_train, y_train)\n",
    "rf_pred = clfr.predict(X_test)\n",
    "print(classification_report(y_test, rf_pred, labels = [1, 0]))"
   ]
  },
  {
   "cell_type": "code",
   "execution_count": null,
   "id": "4bffa40c-3dd0-4670-8ffc-beba486b4f08",
   "metadata": {},
   "outputs": [],
   "source": [
    "# underfitting resampled random forest \n",
    "clfr = RandomForestClassifier(n_estimators=500, random_state = 42)\n",
    "clfr.fit(X_resampled, y_resampled)\n",
    "rf_pred = clfr.predict(X_test)\n",
    "print(classification_report(y_test, rf_pred, labels = [1, 0]))"
   ]
  },
  {
   "cell_type": "code",
   "execution_count": null,
   "id": "baba0ee9-e46f-4b02-a45f-9f9d811d49c3",
   "metadata": {},
   "outputs": [],
   "source": [
    "#log reggession \n",
    "logreg = LogisticRegression()\n",
    "logreg.fit(X_train, y_train)\n",
    "log_pred = logreg.predict(X_test)\n",
    "print(classification_report(y_test, log_pred, labels = [1, 0]))"
   ]
  },
  {
   "cell_type": "code",
   "execution_count": null,
   "id": "ed99e4e4-17f7-48ca-a200-c58ebc1877ad",
   "metadata": {},
   "outputs": [],
   "source": [
    "# underfitting log reggession \n",
    "logreg = LogisticRegression()\n",
    "logreg.fit(X_resampled, y_resampled)\n",
    "log_pred = logreg.predict(X_test)\n",
    "print(classification_report(y_test, log_pred, labels = [1, 0]))"
   ]
  },
  {
   "cell_type": "code",
   "execution_count": null,
   "id": "62ec10e4-97f8-4b86-8613-75ae8d2b788f",
   "metadata": {},
   "outputs": [],
   "source": [
    "#linear reggession \n",
    "linreg = LinearRegression()\n",
    "linreg.fit(X_train, y_train)\n",
    "lin_pred = linreg.predict(X_test)\n",
    "lin_pred.score()"
   ]
  }
 ],
 "metadata": {
  "kernelspec": {
   "display_name": "Python 3 (ipykernel)",
   "language": "python",
   "name": "python3"
  },
  "language_info": {
   "codemirror_mode": {
    "name": "ipython",
    "version": 3
   },
   "file_extension": ".py",
   "mimetype": "text/x-python",
   "name": "python",
   "nbconvert_exporter": "python",
   "pygments_lexer": "ipython3",
   "version": "3.11.7"
  }
 },
 "nbformat": 4,
 "nbformat_minor": 5
}
