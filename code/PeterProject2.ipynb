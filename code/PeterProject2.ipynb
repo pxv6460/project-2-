{
 "cells": [
  {
   "cell_type": "code",
   "execution_count": 1,
   "id": "32f950af-5b74-4000-a2b9-9793dd0e0fbb",
   "metadata": {},
   "outputs": [],
   "source": [
    "import pandas as pd\n",
    "from sklearn.preprocessing import LabelEncoder, OneHotEncoder\n",
    "from sklearn.model_selection import train_test_split\n",
    "from sklearn.svm import SVC\n",
    "from sklearn.linear_model import LogisticRegression, LinearRegression\n",
    "from sklearn.ensemble import RandomForestClassifier\n",
    "from sklearn.metrics import confusion_matrix,classification_report\n",
    "from sklearn.preprocessing import StandardScaler\n",
    "from sklearn.utils import resample\n",
    "from imblearn.under_sampling import RandomUnderSampler\n",
    "import seaborn as sn\n",
    "import matplotlib.pyplot as plt\n",
    "import numpy as np\n",
    "#import sweetviz as sv\n"
   ]
  },
  {
   "cell_type": "code",
   "execution_count": 2,
   "id": "ed69b5c3-a011-4270-8219-897c2e1a1acd",
   "metadata": {},
   "outputs": [],
   "source": [
    "#open the compressed data\n",
    "#with gzip.open(\"../Res/athyg_v24.csv.gz\", 'rt') as reader_ath_hyg:\n",
    "#    ath_hyg=pd.read_csv(reader_ath_hyg, low_memory=False)\n",
    "#    \n",
    "#with gzip.open(\"../Res/hygdata_v37.csv.gz\", 'rt') as reader_hyg:\n",
    "#    hyg=pd.read_csv(reader_hyg, low_memory=False)\n"
   ]
  },
  {
   "cell_type": "code",
   "execution_count": 3,
   "id": "502d862a-dc01-45bd-8aa3-d78023b44d97",
   "metadata": {},
   "outputs": [],
   "source": [
    "df=pd.read_csv(\"../Res/preporcessed.csv\")"
   ]
  },
  {
   "cell_type": "code",
   "execution_count": 4,
   "id": "d2bba945-3580-4228-aee7-b3f37e84bdb9",
   "metadata": {},
   "outputs": [],
   "source": [
    "#ath_hyg"
   ]
  },
  {
   "cell_type": "code",
   "execution_count": 5,
   "id": "4d1f7a2f-52cb-4e32-89f0-31a7f7978b2b",
   "metadata": {
    "scrolled": true
   },
   "outputs": [
    {
     "data": {
      "text/plain": [
       "target\n",
       "0.0    22417\n",
       "1.0    18916\n",
       "Name: count, dtype: int64"
      ]
     },
     "execution_count": 5,
     "metadata": {},
     "output_type": "execute_result"
    }
   ],
   "source": [
    "df[\"target\"].value_counts()"
   ]
  },
  {
   "cell_type": "code",
   "execution_count": 6,
   "id": "24bc209a-dbf7-4fbc-a7e7-a32a2f14f158",
   "metadata": {},
   "outputs": [],
   "source": [
    "# ReportVisualizationPartTwo = sv.analyze(df)\n",
    "# ReportVisualizationPartTwo.show_notebook()"
   ]
  },
  {
   "cell_type": "code",
   "execution_count": 7,
   "id": "32efb2a1-169d-43fe-be74-340c54453ee1",
   "metadata": {},
   "outputs": [
    {
     "name": "stdout",
     "output_type": "stream",
     "text": [
      "<class 'pandas.core.frame.DataFrame'>\n",
      "RangeIndex: 41333 entries, 0 to 41332\n",
      "Data columns (total 12 columns):\n",
      " #   Column                  Non-Null Count  Dtype  \n",
      "---  ------                  --------------  -----  \n",
      " 0   Vmag                    41333 non-null  float64\n",
      " 1   Plx                     41333 non-null  float64\n",
      " 2   e_Plx                   41333 non-null  float64\n",
      " 3   B-V                     41333 non-null  float64\n",
      " 4   SpType                  41333 non-null  object \n",
      " 5   Distance (parsecs)      41333 non-null  float64\n",
      " 6   Distance (light years)  41333 non-null  float64\n",
      " 7   Amag                    41333 non-null  float64\n",
      " 8   Temperature (K)         41333 non-null  float64\n",
      " 9   Luminosity (Sun=1)      41333 non-null  float64\n",
      " 10  Radius (Sun=1)          41333 non-null  float64\n",
      " 11  target                  41333 non-null  float64\n",
      "dtypes: float64(11), object(1)\n",
      "memory usage: 3.8+ MB\n"
     ]
    }
   ],
   "source": [
    "df.info()"
   ]
  },
  {
   "cell_type": "code",
   "execution_count": 8,
   "id": "55490d43-4a54-4d4b-a1d4-7789523e367f",
   "metadata": {},
   "outputs": [],
   "source": [
    "dff = df.drop(columns=\"SpType\").copy()"
   ]
  },
  {
   "cell_type": "code",
   "execution_count": 9,
   "id": "073cab1d-3dfe-45c8-bffd-9a26d9af2ba6",
   "metadata": {},
   "outputs": [],
   "source": [
    "## df has inifinite values in it and there where some nulls\n",
    "dff.replace([np.inf, -np.inf], np.nan, inplace=True)\n",
    "dff.fillna(dff.mean(), inplace=True)"
   ]
  },
  {
   "cell_type": "code",
   "execution_count": 10,
   "id": "886bd25f-24f3-40df-9941-8d8723256f4e",
   "metadata": {},
   "outputs": [],
   "source": [
    "X = dff.drop(columns=[\"target\",\"B-V\"]).copy()\n",
    "y = dff[\"target\"]"
   ]
  },
  {
   "cell_type": "code",
   "execution_count": 11,
   "id": "7ee36769-3e3a-41ba-954f-6ad23801ff48",
   "metadata": {
    "scrolled": true
   },
   "outputs": [
    {
     "name": "stdout",
     "output_type": "stream",
     "text": [
      "<class 'pandas.core.frame.DataFrame'>\n",
      "RangeIndex: 41333 entries, 0 to 41332\n",
      "Data columns (total 9 columns):\n",
      " #   Column                  Non-Null Count  Dtype  \n",
      "---  ------                  --------------  -----  \n",
      " 0   Vmag                    41333 non-null  float64\n",
      " 1   Plx                     41333 non-null  float64\n",
      " 2   e_Plx                   41333 non-null  float64\n",
      " 3   Distance (parsecs)      41333 non-null  float64\n",
      " 4   Distance (light years)  41333 non-null  float64\n",
      " 5   Amag                    41333 non-null  float64\n",
      " 6   Temperature (K)         41333 non-null  float64\n",
      " 7   Luminosity (Sun=1)      41333 non-null  float64\n",
      " 8   Radius (Sun=1)          41333 non-null  float64\n",
      "dtypes: float64(9)\n",
      "memory usage: 2.8 MB\n"
     ]
    }
   ],
   "source": [
    "X.info()"
   ]
  },
  {
   "cell_type": "code",
   "execution_count": 12,
   "id": "6c4a6f8d-1010-461c-ad7c-37f371d63cc8",
   "metadata": {},
   "outputs": [
    {
     "data": {
      "text/html": [
       "<div>\n",
       "<style scoped>\n",
       "    .dataframe tbody tr th:only-of-type {\n",
       "        vertical-align: middle;\n",
       "    }\n",
       "\n",
       "    .dataframe tbody tr th {\n",
       "        vertical-align: top;\n",
       "    }\n",
       "\n",
       "    .dataframe thead th {\n",
       "        text-align: right;\n",
       "    }\n",
       "</style>\n",
       "<table border=\"1\" class=\"dataframe\">\n",
       "  <thead>\n",
       "    <tr style=\"text-align: right;\">\n",
       "      <th></th>\n",
       "      <th>Vmag</th>\n",
       "      <th>Plx</th>\n",
       "      <th>e_Plx</th>\n",
       "      <th>Distance (parsecs)</th>\n",
       "      <th>Distance (light years)</th>\n",
       "      <th>Amag</th>\n",
       "      <th>Temperature (K)</th>\n",
       "      <th>Luminosity (Sun=1)</th>\n",
       "      <th>Radius (Sun=1)</th>\n",
       "    </tr>\n",
       "  </thead>\n",
       "  <tbody>\n",
       "    <tr>\n",
       "      <th>0</th>\n",
       "      <td>9.27</td>\n",
       "      <td>0.02190</td>\n",
       "      <td>3.10</td>\n",
       "      <td>45.662100</td>\n",
       "      <td>148.929680</td>\n",
       "      <td>5.972221</td>\n",
       "      <td>4745.140425</td>\n",
       "      <td>0.355723</td>\n",
       "      <td>0.884327</td>\n",
       "    </tr>\n",
       "    <tr>\n",
       "      <th>1</th>\n",
       "      <td>8.06</td>\n",
       "      <td>0.00775</td>\n",
       "      <td>0.97</td>\n",
       "      <td>129.032258</td>\n",
       "      <td>420.846452</td>\n",
       "      <td>2.506509</td>\n",
       "      <td>7044.130880</td>\n",
       "      <td>8.657582</td>\n",
       "      <td>1.979696</td>\n",
       "    </tr>\n",
       "    <tr>\n",
       "      <th>2</th>\n",
       "      <td>8.55</td>\n",
       "      <td>0.00287</td>\n",
       "      <td>1.11</td>\n",
       "      <td>348.432056</td>\n",
       "      <td>1136.432056</td>\n",
       "      <td>0.839409</td>\n",
       "      <td>4991.060700</td>\n",
       "      <td>40.200940</td>\n",
       "      <td>8.497428</td>\n",
       "    </tr>\n",
       "    <tr>\n",
       "      <th>3</th>\n",
       "      <td>12.31</td>\n",
       "      <td>0.01880</td>\n",
       "      <td>4.99</td>\n",
       "      <td>53.191489</td>\n",
       "      <td>173.487234</td>\n",
       "      <td>8.680789</td>\n",
       "      <td>4058.107348</td>\n",
       "      <td>0.029355</td>\n",
       "      <td>0.347336</td>\n",
       "    </tr>\n",
       "    <tr>\n",
       "      <th>4</th>\n",
       "      <td>9.05</td>\n",
       "      <td>0.00517</td>\n",
       "      <td>1.95</td>\n",
       "      <td>193.423598</td>\n",
       "      <td>630.862669</td>\n",
       "      <td>2.617453</td>\n",
       "      <td>4510.468347</td>\n",
       "      <td>7.816618</td>\n",
       "      <td>4.587977</td>\n",
       "    </tr>\n",
       "    <tr>\n",
       "      <th>...</th>\n",
       "      <td>...</td>\n",
       "      <td>...</td>\n",
       "      <td>...</td>\n",
       "      <td>...</td>\n",
       "      <td>...</td>\n",
       "      <td>...</td>\n",
       "      <td>...</td>\n",
       "      <td>...</td>\n",
       "      <td>...</td>\n",
       "    </tr>\n",
       "    <tr>\n",
       "      <th>41328</th>\n",
       "      <td>8.79</td>\n",
       "      <td>0.00089</td>\n",
       "      <td>1.28</td>\n",
       "      <td>1123.595506</td>\n",
       "      <td>3664.674157</td>\n",
       "      <td>-1.463050</td>\n",
       "      <td>4320.533599</td>\n",
       "      <td>335.135155</td>\n",
       "      <td>32.740876</td>\n",
       "    </tr>\n",
       "    <tr>\n",
       "      <th>41329</th>\n",
       "      <td>8.66</td>\n",
       "      <td>0.02804</td>\n",
       "      <td>2.25</td>\n",
       "      <td>35.663338</td>\n",
       "      <td>116.318117</td>\n",
       "      <td>5.898890</td>\n",
       "      <td>4723.612188</td>\n",
       "      <td>0.380578</td>\n",
       "      <td>0.923057</td>\n",
       "    </tr>\n",
       "    <tr>\n",
       "      <th>41330</th>\n",
       "      <td>8.00</td>\n",
       "      <td>0.00041</td>\n",
       "      <td>0.92</td>\n",
       "      <td>2439.024390</td>\n",
       "      <td>7955.024390</td>\n",
       "      <td>-3.936081</td>\n",
       "      <td>5123.037777</td>\n",
       "      <td>3269.130719</td>\n",
       "      <td>72.730421</td>\n",
       "    </tr>\n",
       "    <tr>\n",
       "      <th>41331</th>\n",
       "      <td>7.69</td>\n",
       "      <td>0.00660</td>\n",
       "      <td>0.92</td>\n",
       "      <td>151.515152</td>\n",
       "      <td>494.175758</td>\n",
       "      <td>1.787720</td>\n",
       "      <td>4493.257892</td>\n",
       "      <td>16.784644</td>\n",
       "      <td>6.774675</td>\n",
       "    </tr>\n",
       "    <tr>\n",
       "      <th>41332</th>\n",
       "      <td>6.98</td>\n",
       "      <td>0.00297</td>\n",
       "      <td>0.76</td>\n",
       "      <td>336.700337</td>\n",
       "      <td>1098.168350</td>\n",
       "      <td>-0.656218</td>\n",
       "      <td>12350.588581</td>\n",
       "      <td>159.399554</td>\n",
       "      <td>2.763270</td>\n",
       "    </tr>\n",
       "  </tbody>\n",
       "</table>\n",
       "<p>41333 rows × 9 columns</p>\n",
       "</div>"
      ],
      "text/plain": [
       "        Vmag      Plx  e_Plx  Distance (parsecs)  Distance (light years)  \\\n",
       "0       9.27  0.02190   3.10           45.662100              148.929680   \n",
       "1       8.06  0.00775   0.97          129.032258              420.846452   \n",
       "2       8.55  0.00287   1.11          348.432056             1136.432056   \n",
       "3      12.31  0.01880   4.99           53.191489              173.487234   \n",
       "4       9.05  0.00517   1.95          193.423598              630.862669   \n",
       "...      ...      ...    ...                 ...                     ...   \n",
       "41328   8.79  0.00089   1.28         1123.595506             3664.674157   \n",
       "41329   8.66  0.02804   2.25           35.663338              116.318117   \n",
       "41330   8.00  0.00041   0.92         2439.024390             7955.024390   \n",
       "41331   7.69  0.00660   0.92          151.515152              494.175758   \n",
       "41332   6.98  0.00297   0.76          336.700337             1098.168350   \n",
       "\n",
       "           Amag  Temperature (K)  Luminosity (Sun=1)  Radius (Sun=1)  \n",
       "0      5.972221      4745.140425            0.355723        0.884327  \n",
       "1      2.506509      7044.130880            8.657582        1.979696  \n",
       "2      0.839409      4991.060700           40.200940        8.497428  \n",
       "3      8.680789      4058.107348            0.029355        0.347336  \n",
       "4      2.617453      4510.468347            7.816618        4.587977  \n",
       "...         ...              ...                 ...             ...  \n",
       "41328 -1.463050      4320.533599          335.135155       32.740876  \n",
       "41329  5.898890      4723.612188            0.380578        0.923057  \n",
       "41330 -3.936081      5123.037777         3269.130719       72.730421  \n",
       "41331  1.787720      4493.257892           16.784644        6.774675  \n",
       "41332 -0.656218     12350.588581          159.399554        2.763270  \n",
       "\n",
       "[41333 rows x 9 columns]"
      ]
     },
     "execution_count": 12,
     "metadata": {},
     "output_type": "execute_result"
    }
   ],
   "source": [
    "X"
   ]
  },
  {
   "cell_type": "code",
   "execution_count": 13,
   "id": "cac9a892-d8a8-4b82-a386-1a7718e86ba6",
   "metadata": {},
   "outputs": [
    {
     "name": "stdout",
     "output_type": "stream",
     "text": [
      "<class 'pandas.core.series.Series'>\n",
      "RangeIndex: 41333 entries, 0 to 41332\n",
      "Series name: target\n",
      "Non-Null Count  Dtype  \n",
      "--------------  -----  \n",
      "41333 non-null  float64\n",
      "dtypes: float64(1)\n",
      "memory usage: 323.0 KB\n"
     ]
    }
   ],
   "source": [
    "y.info()"
   ]
  },
  {
   "cell_type": "code",
   "execution_count": 14,
   "id": "d552cdb8-51f1-45a2-985e-ed5d594c34cb",
   "metadata": {},
   "outputs": [
    {
     "data": {
      "text/plain": [
       "0        0.0\n",
       "1        0.0\n",
       "2        1.0\n",
       "3        0.0\n",
       "4        0.0\n",
       "        ... \n",
       "41328    1.0\n",
       "41329    0.0\n",
       "41330    1.0\n",
       "41331    1.0\n",
       "41332    0.0\n",
       "Name: target, Length: 41333, dtype: float64"
      ]
     },
     "execution_count": 14,
     "metadata": {},
     "output_type": "execute_result"
    }
   ],
   "source": [
    "y"
   ]
  },
  {
   "cell_type": "code",
   "execution_count": 15,
   "id": "c9c0c860-3b08-46be-b0b4-b1b1709b5b5c",
   "metadata": {},
   "outputs": [],
   "source": [
    "#labelencoder_X=LabelEncoder()\n",
    "#X[:,4]=labelencoder_X.fit_transform(X[:,4])"
   ]
  },
  {
   "cell_type": "code",
   "execution_count": 16,
   "id": "91251eed-3d39-461a-b60c-921d591c7b26",
   "metadata": {},
   "outputs": [],
   "source": [
    "X_train, X_test, y_train, y_test = train_test_split(X, y, random_state = 42)"
   ]
  },
  {
   "cell_type": "code",
   "execution_count": 17,
   "id": "95dd1e9c-b9b8-4b7e-9ebb-acf5b8497075",
   "metadata": {},
   "outputs": [],
   "source": [
    "# Instantiate the RandomUnderSampler instance\n",
    "rus = RandomUnderSampler(random_state=42)\n",
    "\n",
    "# Fit the data to the model\n",
    "X_resampled, y_resampled = rus.fit_resample(X_train, y_train)"
   ]
  },
  {
   "cell_type": "code",
   "execution_count": 18,
   "id": "036c9239-f715-470b-b79f-0bfa17998a2c",
   "metadata": {},
   "outputs": [
    {
     "data": {
      "text/plain": [
       "target\n",
       "0.0    14188\n",
       "1.0    14188\n",
       "Name: count, dtype: int64"
      ]
     },
     "execution_count": 18,
     "metadata": {},
     "output_type": "execute_result"
    }
   ],
   "source": [
    "y_resampled.value_counts()"
   ]
  },
  {
   "cell_type": "code",
   "execution_count": 19,
   "id": "d25edf18-5826-4dc3-8dfa-467d8b0d9a7a",
   "metadata": {},
   "outputs": [
    {
     "name": "stdout",
     "output_type": "stream",
     "text": [
      "              precision    recall  f1-score   support\n",
      "\n",
      "           1       0.83      0.84      0.83      4728\n",
      "           0       0.86      0.86      0.86      5606\n",
      "\n",
      "    accuracy                           0.85     10334\n",
      "   macro avg       0.85      0.85      0.85     10334\n",
      "weighted avg       0.85      0.85      0.85     10334\n",
      "\n"
     ]
    }
   ],
   "source": [
    "#svc \n",
    "clfr = SVC(kernel=\"rbf\", random_state=42)\n",
    "clfr.fit(X_train, y_train)\n",
    "svc_pred = clfr.predict(X_test)\n",
    "conf_mtx = confusion_matrix(y_test, svc_pred)\n",
    "conf_mtx\n",
    "print(classification_report(y_test, svc_pred, labels = [1, 0]))"
   ]
  },
  {
   "cell_type": "code",
   "execution_count": 20,
   "id": "7565f393-b79d-40e1-aa2d-747263049f27",
   "metadata": {},
   "outputs": [
    {
     "name": "stdout",
     "output_type": "stream",
     "text": [
      "              precision    recall  f1-score   support\n",
      "\n",
      "           1       0.81      0.85      0.83      4728\n",
      "           0       0.87      0.83      0.85      5606\n",
      "\n",
      "    accuracy                           0.84     10334\n",
      "   macro avg       0.84      0.84      0.84     10334\n",
      "weighted avg       0.84      0.84      0.84     10334\n",
      "\n"
     ]
    }
   ],
   "source": [
    "#resampled underfitting svc\n",
    "clfr = SVC(kernel=\"rbf\", random_state=42)\n",
    "clfr.fit(X_resampled, y_resampled)\n",
    "svc_pred = clfr.predict(X_test)\n",
    "print(classification_report(y_test, svc_pred, labels = [1, 0]))"
   ]
  },
  {
   "cell_type": "code",
   "execution_count": 21,
   "id": "86982631-e8af-4a66-8ad6-224174f3f025",
   "metadata": {},
   "outputs": [
    {
     "name": "stdout",
     "output_type": "stream",
     "text": [
      "              precision    recall  f1-score   support\n",
      "\n",
      "           1       0.89      0.86      0.88      4728\n",
      "           0       0.89      0.91      0.90      5606\n",
      "\n",
      "    accuracy                           0.89     10334\n",
      "   macro avg       0.89      0.89      0.89     10334\n",
      "weighted avg       0.89      0.89      0.89     10334\n",
      "\n"
     ]
    }
   ],
   "source": [
    "# random forest \n",
    "clfr = RandomForestClassifier(n_estimators=500, random_state = 42)\n",
    "clfr.fit(X_train, y_train)\n",
    "rf_pred = clfr.predict(X_test)\n",
    "print(classification_report(y_test, rf_pred, labels = [1, 0]))"
   ]
  },
  {
   "cell_type": "code",
   "execution_count": 22,
   "id": "4bffa40c-3dd0-4670-8ffc-beba486b4f08",
   "metadata": {},
   "outputs": [
    {
     "name": "stdout",
     "output_type": "stream",
     "text": [
      "              precision    recall  f1-score   support\n",
      "\n",
      "           1       0.89      0.87      0.88      4728\n",
      "           0       0.89      0.91      0.90      5606\n",
      "\n",
      "    accuracy                           0.89     10334\n",
      "   macro avg       0.89      0.89      0.89     10334\n",
      "weighted avg       0.89      0.89      0.89     10334\n",
      "\n"
     ]
    }
   ],
   "source": [
    "# underfitting resampled random forest \n",
    "clfr = RandomForestClassifier(n_estimators=500, random_state = 42)\n",
    "clfr.fit(X_resampled, y_resampled)\n",
    "rf_pred = clfr.predict(X_test)\n",
    "print(classification_report(y_test, rf_pred, labels = [1, 0]))"
   ]
  },
  {
   "cell_type": "code",
   "execution_count": 23,
   "id": "baba0ee9-e46f-4b02-a45f-9f9d811d49c3",
   "metadata": {},
   "outputs": [
    {
     "name": "stdout",
     "output_type": "stream",
     "text": [
      "              precision    recall  f1-score   support\n",
      "\n",
      "           1       0.86      0.82      0.84      4728\n",
      "           0       0.86      0.89      0.87      5606\n",
      "\n",
      "    accuracy                           0.86     10334\n",
      "   macro avg       0.86      0.86      0.86     10334\n",
      "weighted avg       0.86      0.86      0.86     10334\n",
      "\n"
     ]
    },
    {
     "name": "stderr",
     "output_type": "stream",
     "text": [
      "C:\\Users\\peter\\anaconda3\\Lib\\site-packages\\sklearn\\linear_model\\_logistic.py:458: ConvergenceWarning: lbfgs failed to converge (status=1):\n",
      "STOP: TOTAL NO. of ITERATIONS REACHED LIMIT.\n",
      "\n",
      "Increase the number of iterations (max_iter) or scale the data as shown in:\n",
      "    https://scikit-learn.org/stable/modules/preprocessing.html\n",
      "Please also refer to the documentation for alternative solver options:\n",
      "    https://scikit-learn.org/stable/modules/linear_model.html#logistic-regression\n",
      "  n_iter_i = _check_optimize_result(\n"
     ]
    }
   ],
   "source": [
    "#log reggession \n",
    "logreg = LogisticRegression()\n",
    "logreg.fit(X_train, y_train)\n",
    "log_pred = logreg.predict(X_test)\n",
    "print(classification_report(y_test, log_pred, labels = [1, 0]))"
   ]
  },
  {
   "cell_type": "code",
   "execution_count": 24,
   "id": "ed99e4e4-17f7-48ca-a200-c58ebc1877ad",
   "metadata": {},
   "outputs": [
    {
     "name": "stdout",
     "output_type": "stream",
     "text": [
      "              precision    recall  f1-score   support\n",
      "\n",
      "           1       0.90      0.75      0.82      4728\n",
      "           0       0.82      0.93      0.87      5606\n",
      "\n",
      "    accuracy                           0.85     10334\n",
      "   macro avg       0.86      0.84      0.85     10334\n",
      "weighted avg       0.86      0.85      0.85     10334\n",
      "\n"
     ]
    }
   ],
   "source": [
    "# underfitting log reggession \n",
    "logreg = LogisticRegression()\n",
    "logreg.fit(X_resampled, y_resampled)\n",
    "log_pred = logreg.predict(X_test)\n",
    "print(classification_report(y_test, log_pred, labels = [1, 0]))"
   ]
  },
  {
   "cell_type": "code",
   "execution_count": 28,
   "id": "62ec10e4-97f8-4b86-8613-75ae8d2b788f",
   "metadata": {},
   "outputs": [
    {
     "name": "stderr",
     "output_type": "stream",
     "text": [
      "C:\\Users\\peter\\anaconda3\\Lib\\site-packages\\sklearn\\base.py:439: UserWarning: X does not have valid feature names, but LinearRegression was fitted with feature names\n",
      "  warnings.warn(\n"
     ]
    },
    {
     "ename": "ValueError",
     "evalue": "Expected 2D array, got 1D array instead:\narray=[0.08321671 0.2108068  1.14459944 ... 0.16580131 0.98595674 0.15175263].\nReshape your data either using array.reshape(-1, 1) if your data has a single feature or array.reshape(1, -1) if it contains a single sample.",
     "output_type": "error",
     "traceback": [
      "\u001b[1;31m---------------------------------------------------------------------------\u001b[0m",
      "\u001b[1;31mValueError\u001b[0m                                Traceback (most recent call last)",
      "Cell \u001b[1;32mIn[28], line 5\u001b[0m\n\u001b[0;32m      3\u001b[0m linreg\u001b[38;5;241m.\u001b[39mfit(X_train, y_train)\n\u001b[0;32m      4\u001b[0m lin_pred \u001b[38;5;241m=\u001b[39m linreg\u001b[38;5;241m.\u001b[39mpredict(X_test)\n\u001b[1;32m----> 5\u001b[0m linreg\u001b[38;5;241m.\u001b[39mscore(lin_pred,y_test)\n",
      "File \u001b[1;32m~\\anaconda3\\Lib\\site-packages\\sklearn\\base.py:722\u001b[0m, in \u001b[0;36mRegressorMixin.score\u001b[1;34m(self, X, y, sample_weight)\u001b[0m\n\u001b[0;32m    680\u001b[0m \u001b[38;5;250m\u001b[39m\u001b[38;5;124;03m\"\"\"Return the coefficient of determination of the prediction.\u001b[39;00m\n\u001b[0;32m    681\u001b[0m \n\u001b[0;32m    682\u001b[0m \u001b[38;5;124;03mThe coefficient of determination :math:`R^2` is defined as\u001b[39;00m\n\u001b[1;32m   (...)\u001b[0m\n\u001b[0;32m    717\u001b[0m \u001b[38;5;124;03m:class:`~sklearn.multioutput.MultiOutputRegressor`).\u001b[39;00m\n\u001b[0;32m    718\u001b[0m \u001b[38;5;124;03m\"\"\"\u001b[39;00m\n\u001b[0;32m    720\u001b[0m \u001b[38;5;28;01mfrom\u001b[39;00m \u001b[38;5;21;01m.\u001b[39;00m\u001b[38;5;21;01mmetrics\u001b[39;00m \u001b[38;5;28;01mimport\u001b[39;00m r2_score\n\u001b[1;32m--> 722\u001b[0m y_pred \u001b[38;5;241m=\u001b[39m \u001b[38;5;28mself\u001b[39m\u001b[38;5;241m.\u001b[39mpredict(X)\n\u001b[0;32m    723\u001b[0m \u001b[38;5;28;01mreturn\u001b[39;00m r2_score(y, y_pred, sample_weight\u001b[38;5;241m=\u001b[39msample_weight)\n",
      "File \u001b[1;32m~\\anaconda3\\Lib\\site-packages\\sklearn\\linear_model\\_base.py:354\u001b[0m, in \u001b[0;36mLinearModel.predict\u001b[1;34m(self, X)\u001b[0m\n\u001b[0;32m    340\u001b[0m \u001b[38;5;28;01mdef\u001b[39;00m \u001b[38;5;21mpredict\u001b[39m(\u001b[38;5;28mself\u001b[39m, X):\n\u001b[0;32m    341\u001b[0m \u001b[38;5;250m    \u001b[39m\u001b[38;5;124;03m\"\"\"\u001b[39;00m\n\u001b[0;32m    342\u001b[0m \u001b[38;5;124;03m    Predict using the linear model.\u001b[39;00m\n\u001b[0;32m    343\u001b[0m \n\u001b[1;32m   (...)\u001b[0m\n\u001b[0;32m    352\u001b[0m \u001b[38;5;124;03m        Returns predicted values.\u001b[39;00m\n\u001b[0;32m    353\u001b[0m \u001b[38;5;124;03m    \"\"\"\u001b[39;00m\n\u001b[1;32m--> 354\u001b[0m     \u001b[38;5;28;01mreturn\u001b[39;00m \u001b[38;5;28mself\u001b[39m\u001b[38;5;241m.\u001b[39m_decision_function(X)\n",
      "File \u001b[1;32m~\\anaconda3\\Lib\\site-packages\\sklearn\\linear_model\\_base.py:337\u001b[0m, in \u001b[0;36mLinearModel._decision_function\u001b[1;34m(self, X)\u001b[0m\n\u001b[0;32m    334\u001b[0m \u001b[38;5;28;01mdef\u001b[39;00m \u001b[38;5;21m_decision_function\u001b[39m(\u001b[38;5;28mself\u001b[39m, X):\n\u001b[0;32m    335\u001b[0m     check_is_fitted(\u001b[38;5;28mself\u001b[39m)\n\u001b[1;32m--> 337\u001b[0m     X \u001b[38;5;241m=\u001b[39m \u001b[38;5;28mself\u001b[39m\u001b[38;5;241m.\u001b[39m_validate_data(X, accept_sparse\u001b[38;5;241m=\u001b[39m[\u001b[38;5;124m\"\u001b[39m\u001b[38;5;124mcsr\u001b[39m\u001b[38;5;124m\"\u001b[39m, \u001b[38;5;124m\"\u001b[39m\u001b[38;5;124mcsc\u001b[39m\u001b[38;5;124m\"\u001b[39m, \u001b[38;5;124m\"\u001b[39m\u001b[38;5;124mcoo\u001b[39m\u001b[38;5;124m\"\u001b[39m], reset\u001b[38;5;241m=\u001b[39m\u001b[38;5;28;01mFalse\u001b[39;00m)\n\u001b[0;32m    338\u001b[0m     \u001b[38;5;28;01mreturn\u001b[39;00m safe_sparse_dot(X, \u001b[38;5;28mself\u001b[39m\u001b[38;5;241m.\u001b[39mcoef_\u001b[38;5;241m.\u001b[39mT, dense_output\u001b[38;5;241m=\u001b[39m\u001b[38;5;28;01mTrue\u001b[39;00m) \u001b[38;5;241m+\u001b[39m \u001b[38;5;28mself\u001b[39m\u001b[38;5;241m.\u001b[39mintercept_\n",
      "File \u001b[1;32m~\\anaconda3\\Lib\\site-packages\\sklearn\\base.py:565\u001b[0m, in \u001b[0;36mBaseEstimator._validate_data\u001b[1;34m(self, X, y, reset, validate_separately, **check_params)\u001b[0m\n\u001b[0;32m    563\u001b[0m     \u001b[38;5;28;01mraise\u001b[39;00m \u001b[38;5;167;01mValueError\u001b[39;00m(\u001b[38;5;124m\"\u001b[39m\u001b[38;5;124mValidation should be done on X, y or both.\u001b[39m\u001b[38;5;124m\"\u001b[39m)\n\u001b[0;32m    564\u001b[0m \u001b[38;5;28;01melif\u001b[39;00m \u001b[38;5;129;01mnot\u001b[39;00m no_val_X \u001b[38;5;129;01mand\u001b[39;00m no_val_y:\n\u001b[1;32m--> 565\u001b[0m     X \u001b[38;5;241m=\u001b[39m check_array(X, input_name\u001b[38;5;241m=\u001b[39m\u001b[38;5;124m\"\u001b[39m\u001b[38;5;124mX\u001b[39m\u001b[38;5;124m\"\u001b[39m, \u001b[38;5;241m*\u001b[39m\u001b[38;5;241m*\u001b[39mcheck_params)\n\u001b[0;32m    566\u001b[0m     out \u001b[38;5;241m=\u001b[39m X\n\u001b[0;32m    567\u001b[0m \u001b[38;5;28;01melif\u001b[39;00m no_val_X \u001b[38;5;129;01mand\u001b[39;00m \u001b[38;5;129;01mnot\u001b[39;00m no_val_y:\n",
      "File \u001b[1;32m~\\anaconda3\\Lib\\site-packages\\sklearn\\utils\\validation.py:902\u001b[0m, in \u001b[0;36mcheck_array\u001b[1;34m(array, accept_sparse, accept_large_sparse, dtype, order, copy, force_all_finite, ensure_2d, allow_nd, ensure_min_samples, ensure_min_features, estimator, input_name)\u001b[0m\n\u001b[0;32m    900\u001b[0m     \u001b[38;5;66;03m# If input is 1D raise error\u001b[39;00m\n\u001b[0;32m    901\u001b[0m     \u001b[38;5;28;01mif\u001b[39;00m array\u001b[38;5;241m.\u001b[39mndim \u001b[38;5;241m==\u001b[39m \u001b[38;5;241m1\u001b[39m:\n\u001b[1;32m--> 902\u001b[0m         \u001b[38;5;28;01mraise\u001b[39;00m \u001b[38;5;167;01mValueError\u001b[39;00m(\n\u001b[0;32m    903\u001b[0m             \u001b[38;5;124m\"\u001b[39m\u001b[38;5;124mExpected 2D array, got 1D array instead:\u001b[39m\u001b[38;5;130;01m\\n\u001b[39;00m\u001b[38;5;124marray=\u001b[39m\u001b[38;5;132;01m{}\u001b[39;00m\u001b[38;5;124m.\u001b[39m\u001b[38;5;130;01m\\n\u001b[39;00m\u001b[38;5;124m\"\u001b[39m\n\u001b[0;32m    904\u001b[0m             \u001b[38;5;124m\"\u001b[39m\u001b[38;5;124mReshape your data either using array.reshape(-1, 1) if \u001b[39m\u001b[38;5;124m\"\u001b[39m\n\u001b[0;32m    905\u001b[0m             \u001b[38;5;124m\"\u001b[39m\u001b[38;5;124myour data has a single feature or array.reshape(1, -1) \u001b[39m\u001b[38;5;124m\"\u001b[39m\n\u001b[0;32m    906\u001b[0m             \u001b[38;5;124m\"\u001b[39m\u001b[38;5;124mif it contains a single sample.\u001b[39m\u001b[38;5;124m\"\u001b[39m\u001b[38;5;241m.\u001b[39mformat(array)\n\u001b[0;32m    907\u001b[0m         )\n\u001b[0;32m    909\u001b[0m \u001b[38;5;28;01mif\u001b[39;00m dtype_numeric \u001b[38;5;129;01mand\u001b[39;00m array\u001b[38;5;241m.\u001b[39mdtype\u001b[38;5;241m.\u001b[39mkind \u001b[38;5;129;01min\u001b[39;00m \u001b[38;5;124m\"\u001b[39m\u001b[38;5;124mUSV\u001b[39m\u001b[38;5;124m\"\u001b[39m:\n\u001b[0;32m    910\u001b[0m     \u001b[38;5;28;01mraise\u001b[39;00m \u001b[38;5;167;01mValueError\u001b[39;00m(\n\u001b[0;32m    911\u001b[0m         \u001b[38;5;124m\"\u001b[39m\u001b[38;5;124mdtype=\u001b[39m\u001b[38;5;124m'\u001b[39m\u001b[38;5;124mnumeric\u001b[39m\u001b[38;5;124m'\u001b[39m\u001b[38;5;124m is not compatible with arrays of bytes/strings.\u001b[39m\u001b[38;5;124m\"\u001b[39m\n\u001b[0;32m    912\u001b[0m         \u001b[38;5;124m\"\u001b[39m\u001b[38;5;124mConvert your data to numeric values explicitly instead.\u001b[39m\u001b[38;5;124m\"\u001b[39m\n\u001b[0;32m    913\u001b[0m     )\n",
      "\u001b[1;31mValueError\u001b[0m: Expected 2D array, got 1D array instead:\narray=[0.08321671 0.2108068  1.14459944 ... 0.16580131 0.98595674 0.15175263].\nReshape your data either using array.reshape(-1, 1) if your data has a single feature or array.reshape(1, -1) if it contains a single sample."
     ]
    }
   ],
   "source": [
    "#linear reggession \n",
    "linreg = LinearRegression()\n",
    "linreg.fit(X_train, y_train)\n",
    "lin_pred = linreg.predict(X_test)\n",
    "linreg.score(lin_pred,y_test)"
   ]
  },
  {
   "cell_type": "code",
   "execution_count": null,
   "id": "0b116837-3488-4e55-b291-eef69af5ce61",
   "metadata": {},
   "outputs": [],
   "source": []
  }
 ],
 "metadata": {
  "kernelspec": {
   "display_name": "Python 3 (ipykernel)",
   "language": "python",
   "name": "python3"
  },
  "language_info": {
   "codemirror_mode": {
    "name": "ipython",
    "version": 3
   },
   "file_extension": ".py",
   "mimetype": "text/x-python",
   "name": "python",
   "nbconvert_exporter": "python",
   "pygments_lexer": "ipython3",
   "version": "3.11.7"
  }
 },
 "nbformat": 4,
 "nbformat_minor": 5
}
